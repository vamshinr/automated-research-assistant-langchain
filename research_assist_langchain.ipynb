{
  "nbformat": 4,
  "nbformat_minor": 0,
  "metadata": {
    "colab": {
      "provenance": []
    },
    "kernelspec": {
      "name": "python3",
      "display_name": "Python 3"
    },
    "language_info": {
      "name": "python"
    }
  },
  "cells": [
    {
      "cell_type": "code",
      "execution_count": null,
      "metadata": {
        "id": "RFlxzR2QdRW5"
      },
      "outputs": [],
      "source": [
        "pip install langchain openai beautifulsoup4 requests pinecone-client flask\n"
      ]
    },
    {
      "cell_type": "code",
      "source": [
        "from langchain import OpenAI, LLMChain\n",
        "from langchain.prompts import PromptTemplate\n",
        "import openai\n",
        "\n",
        "openai.api_key = \"your-openai-api-key\"\n",
        "\n",
        "# Initialize OpenAI LLM\n",
        "llm = OpenAI(temperature=0.7)\n",
        "\n",
        "# Create a LangChain instance\n",
        "prompt = PromptTemplate(input_variables=[\"topic\"], template=\"Please summarize key points about {topic}.\")\n",
        "chain = LLMChain(llm=llm, prompt=prompt)\n"
      ],
      "metadata": {
        "id": "QT3KDDxGdYH1"
      },
      "execution_count": null,
      "outputs": []
    },
    {
      "cell_type": "code",
      "source": [
        "import requests\n",
        "from bs4 import BeautifulSoup\n",
        "\n",
        "def scrape_articles(topic):\n",
        "    search_url = f\"https://www.google.com/search?q={topic.replace(' ', '+')}+article\"\n",
        "    headers = {\"User-Agent\": \"Mozilla/5.0\"}\n",
        "    response = requests.get(search_url, headers=headers)\n",
        "\n",
        "    soup = BeautifulSoup(response.text, \"html.parser\")\n",
        "    articles = []\n",
        "\n",
        "    for link in soup.find_all(\"a\"):\n",
        "        url = link.get(\"href\")\n",
        "        if \"http\" in url:\n",
        "            articles.append(url)\n",
        "\n",
        "    return articles[:5]  # Return top 5 articles\n"
      ],
      "metadata": {
        "id": "XZ5a1yW_dbh3"
      },
      "execution_count": null,
      "outputs": []
    },
    {
      "cell_type": "code",
      "source": [
        "def summarize_article(url, chain):\n",
        "    response = requests.get(url)\n",
        "    soup = BeautifulSoup(response.text, \"html.parser\")\n",
        "    text = ' '.join([p.text for p in soup.find_all(\"p\")])\n",
        "\n",
        "    summary = chain.run(topic=text)\n",
        "    return summary\n"
      ],
      "metadata": {
        "id": "oa6vF4xodd_R"
      },
      "execution_count": null,
      "outputs": []
    },
    {
      "cell_type": "code",
      "source": [
        "import pinecone\n",
        "\n",
        "pinecone.init(api_key=\"your-pinecone-api-key\", environment=\"us-west1-gcp\")\n",
        "\n",
        "index = pinecone.Index(\"research-summaries\")\n",
        "\n",
        "def store_summary(summary, topic):\n",
        "    index.upsert([(topic, summary)])\n"
      ],
      "metadata": {
        "id": "liGQ0gdsdg0a"
      },
      "execution_count": null,
      "outputs": []
    },
    {
      "cell_type": "code",
      "source": [
        "def answer_question(question, index):\n",
        "    results = index.query(question, top_k=1)\n",
        "    return results['matches'][0]['metadata']['summary']\n",
        "\n",
        "question_prompt = PromptTemplate(input_variables=[\"question\"], template=\"Based on your knowledge, answer the following question: {question}\")\n",
        "question_chain = LLMChain(llm=llm, prompt=question_prompt)\n",
        "\n",
        "def generate_answer(question, chain, index):\n",
        "    summary = answer_question(question, index)\n",
        "    answer = chain.run(question=summary)\n",
        "    return answer\n"
      ],
      "metadata": {
        "id": "9jtBgbYpdji_"
      },
      "execution_count": null,
      "outputs": []
    },
    {
      "cell_type": "code",
      "source": [
        "def main():\n",
        "    topic = input(\"Enter a research topic: \")\n",
        "    articles = scrape_articles(topic)\n",
        "\n",
        "    for url in articles:\n",
        "        summary = summarize_article(url, chain)\n",
        "        store_summary(summary, topic)\n",
        "\n",
        "    while True:\n",
        "        question = input(\"\\nAsk a question or type 'exit': \")\n",
        "        if question.lower() == 'exit':\n",
        "            break\n",
        "        answer = generate_answer(question, question_chain, index)\n",
        "        print(f\"Answer: {answer}\")\n",
        "\n",
        "if __name__ == \"__main__\":\n",
        "    main()\n"
      ],
      "metadata": {
        "id": "JLbSkFOsdniO"
      },
      "execution_count": null,
      "outputs": []
    },
    {
      "cell_type": "code",
      "source": [
        "from flask import Flask, request, render_template\n",
        "\n",
        "app = Flask(__name__)\n",
        "\n",
        "@app.route(\"/\", methods=[\"GET\", \"POST\"])\n",
        "def index():\n",
        "    if request.method == \"POST\":\n",
        "        topic = request.form.get(\"topic\")\n",
        "        articles = scrape_articles(topic)\n",
        "\n",
        "        for url in articles:\n",
        "            summary = summarize_article(url, chain)\n",
        "            store_summary(summary, topic)\n",
        "\n",
        "        return render_template(\"results.html\", summaries=summaries)\n",
        "\n",
        "    return render_template(\"index.html\")\n",
        "\n",
        "@app.route(\"/ask\", methods=[\"POST\"])\n",
        "def ask():\n",
        "    question = request.form.get(\"question\")\n",
        "    answer = generate_answer(question, question_chain, index)\n",
        "    return render_template(\"answer.html\", answer=answer)\n",
        "\n",
        "if __name__ == \"__main__\":\n",
        "    app.run(debug=True)\n"
      ],
      "metadata": {
        "id": "Z2amP531drGB"
      },
      "execution_count": null,
      "outputs": []
    }
  ]
}